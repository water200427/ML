{
  "nbformat": 4,
  "nbformat_minor": 0,
  "metadata": {
    "kernelspec": {
      "display_name": "Python 3",
      "language": "python",
      "name": "python3"
    },
    "language_info": {
      "codemirror_mode": {
        "name": "ipython",
        "version": 3
      },
      "file_extension": ".py",
      "mimetype": "text/x-python",
      "name": "python",
      "nbconvert_exporter": "python",
      "pygments_lexer": "ipython3",
      "version": "3.6.10"
    },
    "colab": {
      "name": "sklearn_RandomForestRegression",
      "provenance": [],
      "toc_visible": true,
      "include_colab_link": true
    }
  },
  "cells": [
    {
      "cell_type": "markdown",
      "metadata": {
        "id": "view-in-github",
        "colab_type": "text"
      },
      "source": [
        "<a href=\"https://colab.research.google.com/github/water200427/ML/blob/master/sklearn_RandomForestRegression.ipynb\" target=\"_parent\"><img src=\"https://colab.research.google.com/assets/colab-badge.svg\" alt=\"Open In Colab\"/></a>"
      ]
    },
    {
      "cell_type": "markdown",
      "metadata": {
        "id": "Mkt3a-ideNnL",
        "colab_type": "text"
      },
      "source": [
        "# Public Score of sample_submission.csv = 0.40890"
      ]
    },
    {
      "cell_type": "code",
      "metadata": {
        "id": "sY80z668eNnO",
        "colab_type": "code",
        "colab": {
          "base_uri": "https://localhost:8080/",
          "height": 71
        },
        "outputId": "02a7da7c-3160-4cd7-927f-12570a274962"
      },
      "source": [
        "import numpy as np\n",
        "import pandas as pd\n",
        "import seaborn as sns\n",
        "import matplotlib.pyplot as plt\n",
        "import os\n",
        "from sklearn.preprocessing import LabelEncoder\n",
        "from sklearn.preprocessing import OneHotEncoder\n",
        "from sklearn.model_selection import train_test_split\n",
        "from sklearn.ensemble import RandomForestRegressor"
      ],
      "execution_count": 1,
      "outputs": [
        {
          "output_type": "stream",
          "text": [
            "/usr/local/lib/python3.6/dist-packages/statsmodels/tools/_testing.py:19: FutureWarning: pandas.util.testing is deprecated. Use the functions in the public API at pandas.testing instead.\n",
            "  import pandas.util.testing as tm\n"
          ],
          "name": "stderr"
        }
      ]
    },
    {
      "cell_type": "code",
      "metadata": {
        "scrolled": false,
        "id": "AJX8qz4seNnU",
        "colab_type": "code",
        "colab": {}
      },
      "source": [
        "df = pd.read_csv('train.csv', index_col=0)\n",
        "dff = pd.read_csv('test.csv', index_col=0)"
      ],
      "execution_count": 2,
      "outputs": []
    },
    {
      "cell_type": "markdown",
      "metadata": {
        "id": "CJlPv6EEeNnY",
        "colab_type": "text"
      },
      "source": [
        "### 這邊偷渡觀察cov matrix的結果，選取重要的feature"
      ]
    },
    {
      "cell_type": "code",
      "metadata": {
        "id": "VxvaFIvDeNnZ",
        "colab_type": "code",
        "colab": {}
      },
      "source": [
        "cols = ['SalePrice', 'OverallQual','GrLivArea','TotalBsmtSF','YearBuilt','Fireplaces','GarageArea','MasVnrArea']\n",
        "cols_no_SalePrice = cols[1:]"
      ],
      "execution_count": 3,
      "outputs": []
    },
    {
      "cell_type": "markdown",
      "metadata": {
        "id": "zJEqqLpleNnd",
        "colab_type": "text"
      },
      "source": [
        "### 這邊用該feature的中間值填入缺失data"
      ]
    },
    {
      "cell_type": "code",
      "metadata": {
        "id": "gEN-hMDdeNnd",
        "colab_type": "code",
        "colab": {}
      },
      "source": [
        "df = df[cols].fillna(df[cols].median())\n",
        "dff = dff[cols_no_SalePrice].fillna(dff[cols_no_SalePrice].median())"
      ],
      "execution_count": 4,
      "outputs": []
    },
    {
      "cell_type": "code",
      "metadata": {
        "scrolled": false,
        "id": "yKpgvFYEeNnh",
        "colab_type": "code",
        "colab": {
          "base_uri": "https://localhost:8080/",
          "height": 34
        },
        "outputId": "b6b314dd-f01c-4087-863f-deebcb727b03"
      },
      "source": [
        "np.any(df.isnull()), np.any(dff.isnull())"
      ],
      "execution_count": 5,
      "outputs": [
        {
          "output_type": "execute_result",
          "data": {
            "text/plain": [
              "(False, False)"
            ]
          },
          "metadata": {
            "tags": []
          },
          "execution_count": 5
        }
      ]
    },
    {
      "cell_type": "code",
      "metadata": {
        "scrolled": false,
        "id": "-1kWd_WueNno",
        "colab_type": "code",
        "colab": {
          "base_uri": "https://localhost:8080/",
          "height": 527
        },
        "outputId": "0d518221-5e22-46bc-dbca-7517557c25eb"
      },
      "source": [
        "df, dff"
      ],
      "execution_count": 6,
      "outputs": [
        {
          "output_type": "execute_result",
          "data": {
            "text/plain": [
              "(      SalePrice  OverallQual  GrLivArea  ...  Fireplaces  GarageArea  MasVnrArea\n",
              " Id                                       ...                                    \n",
              " 1        208500            7       1710  ...           0         548       196.0\n",
              " 2        181500            6       1262  ...           1         460         0.0\n",
              " 3        223500            7       1786  ...           1         608       162.0\n",
              " 4        140000            7       1717  ...           1         642         0.0\n",
              " 5        250000            8       2198  ...           1         836       350.0\n",
              " ...         ...          ...        ...  ...         ...         ...         ...\n",
              " 1456     175000            6       1647  ...           1         460         0.0\n",
              " 1457     210000            6       2073  ...           2         500       119.0\n",
              " 1458     266500            7       2340  ...           2         252         0.0\n",
              " 1459     142125            5       1078  ...           0         240         0.0\n",
              " 1460     147500            5       1256  ...           0         276         0.0\n",
              " \n",
              " [1460 rows x 8 columns],\n",
              "       OverallQual  GrLivArea  TotalBsmtSF  ...  Fireplaces  GarageArea  MasVnrArea\n",
              " Id                                         ...                                    \n",
              " 1461            5        896        882.0  ...           0       730.0         0.0\n",
              " 1462            6       1329       1329.0  ...           0       312.0       108.0\n",
              " 1463            5       1629        928.0  ...           1       482.0         0.0\n",
              " 1464            6       1604        926.0  ...           1       470.0        20.0\n",
              " 1465            8       1280       1280.0  ...           0       506.0         0.0\n",
              " ...           ...        ...          ...  ...         ...         ...         ...\n",
              " 2915            4       1092        546.0  ...           0         0.0         0.0\n",
              " 2916            4       1092        546.0  ...           0       286.0         0.0\n",
              " 2917            5       1224       1224.0  ...           1       576.0         0.0\n",
              " 2918            5        970        912.0  ...           0         0.0         0.0\n",
              " 2919            7       2000        996.0  ...           1       650.0        94.0\n",
              " \n",
              " [1459 rows x 7 columns])"
            ]
          },
          "metadata": {
            "tags": []
          },
          "execution_count": 6
        }
      ]
    },
    {
      "cell_type": "code",
      "metadata": {
        "id": "5pcSGSLueNnr",
        "colab_type": "code",
        "colab": {}
      },
      "source": [
        "y = df['SalePrice']\n",
        "X = df[cols_no_SalePrice]\n",
        "XX = dff[cols_no_SalePrice]\n",
        "XX['TotalBsmtSF'] = XX['TotalBsmtSF'].astype(int)"
      ],
      "execution_count": 7,
      "outputs": []
    },
    {
      "cell_type": "code",
      "metadata": {
        "id": "knfXNEaheNnw",
        "colab_type": "code",
        "colab": {}
      },
      "source": [
        "X_train, X_test, y_train, y_test = train_test_split(X, y, test_size =0.3, random_state = 17)"
      ],
      "execution_count": 8,
      "outputs": []
    },
    {
      "cell_type": "code",
      "metadata": {
        "id": "LBLL6X8OeNnz",
        "colab_type": "code",
        "colab": {
          "base_uri": "https://localhost:8080/",
          "height": 476
        },
        "outputId": "70e0c9a6-c648-490b-912e-0a30e3afb0b5"
      },
      "source": [
        "X_train, y_train"
      ],
      "execution_count": 9,
      "outputs": [
        {
          "output_type": "execute_result",
          "data": {
            "text/plain": [
              "(      OverallQual  GrLivArea  TotalBsmtSF  ...  Fireplaces  GarageArea  MasVnrArea\n",
              " Id                                         ...                                    \n",
              " 16              7        854          832  ...           0         576         0.0\n",
              " 1387            7       2784         1392  ...           2         564       184.0\n",
              " 610             4       1029         1029  ...           0         261       192.0\n",
              " 499             5        899          864  ...           0         288        89.0\n",
              " 685             7       1839         1195  ...           0         486        30.0\n",
              " ...           ...        ...          ...  ...         ...         ...         ...\n",
              " 407             6       1639         1064  ...           0         240         0.0\n",
              " 1415            6       1848          833  ...           1         370         0.0\n",
              " 144             7       1501         1490  ...           0         577       183.0\n",
              " 1266            7       1452          691  ...           0         506       218.0\n",
              " 624             6       1512          756  ...           1         440       513.0\n",
              " \n",
              " [1022 rows x 7 columns], Id\n",
              " 16      132000\n",
              " 1387    250000\n",
              " 610     118500\n",
              " 499     130000\n",
              " 685     221000\n",
              "          ...  \n",
              " 407     115000\n",
              " 1415    207000\n",
              " 144     204000\n",
              " 1266    183900\n",
              " 624     168500\n",
              " Name: SalePrice, Length: 1022, dtype: int64)"
            ]
          },
          "metadata": {
            "tags": []
          },
          "execution_count": 9
        }
      ]
    },
    {
      "cell_type": "code",
      "metadata": {
        "scrolled": true,
        "id": "8eBhhdlIeNn2",
        "colab_type": "code",
        "colab": {}
      },
      "source": [
        "RFC = RandomForestRegressor()"
      ],
      "execution_count": 10,
      "outputs": []
    },
    {
      "cell_type": "code",
      "metadata": {
        "id": "MSlLCls_eNn5",
        "colab_type": "code",
        "colab": {
          "base_uri": "https://localhost:8080/",
          "height": 136
        },
        "outputId": "28336109-322b-487c-8cd2-078f9a60d864"
      },
      "source": [
        "RFC.fit(X_train, y_train)"
      ],
      "execution_count": 11,
      "outputs": [
        {
          "output_type": "execute_result",
          "data": {
            "text/plain": [
              "RandomForestRegressor(bootstrap=True, ccp_alpha=0.0, criterion='mse',\n",
              "                      max_depth=None, max_features='auto', max_leaf_nodes=None,\n",
              "                      max_samples=None, min_impurity_decrease=0.0,\n",
              "                      min_impurity_split=None, min_samples_leaf=1,\n",
              "                      min_samples_split=2, min_weight_fraction_leaf=0.0,\n",
              "                      n_estimators=100, n_jobs=None, oob_score=False,\n",
              "                      random_state=None, verbose=0, warm_start=False)"
            ]
          },
          "metadata": {
            "tags": []
          },
          "execution_count": 11
        }
      ]
    },
    {
      "cell_type": "code",
      "metadata": {
        "scrolled": false,
        "id": "lOHeg_X6eNn9",
        "colab_type": "code",
        "colab": {
          "base_uri": "https://localhost:8080/",
          "height": 34
        },
        "outputId": "c5f55c37-2501-4066-bfef-9a575e61d4f3"
      },
      "source": [
        "RFC.score(X_test, y_test)"
      ],
      "execution_count": 12,
      "outputs": [
        {
          "output_type": "execute_result",
          "data": {
            "text/plain": [
              "0.8345156368466069"
            ]
          },
          "metadata": {
            "tags": []
          },
          "execution_count": 12
        }
      ]
    },
    {
      "cell_type": "code",
      "metadata": {
        "id": "UhvFuUhceNoB",
        "colab_type": "code",
        "colab": {
          "base_uri": "https://localhost:8080/",
          "height": 153
        },
        "outputId": "ac885fec-b77e-4c15-84b5-82e1dc816c5c"
      },
      "source": [
        "X_test.dtypes"
      ],
      "execution_count": 13,
      "outputs": [
        {
          "output_type": "execute_result",
          "data": {
            "text/plain": [
              "OverallQual      int64\n",
              "GrLivArea        int64\n",
              "TotalBsmtSF      int64\n",
              "YearBuilt        int64\n",
              "Fireplaces       int64\n",
              "GarageArea       int64\n",
              "MasVnrArea     float64\n",
              "dtype: object"
            ]
          },
          "metadata": {
            "tags": []
          },
          "execution_count": 13
        }
      ]
    },
    {
      "cell_type": "code",
      "metadata": {
        "id": "AZu8yo-BeNoF",
        "colab_type": "code",
        "colab": {
          "base_uri": "https://localhost:8080/",
          "height": 153
        },
        "outputId": "8be11757-5be4-4d94-c642-abf15b1057a3"
      },
      "source": [
        "XX.dtypes"
      ],
      "execution_count": 14,
      "outputs": [
        {
          "output_type": "execute_result",
          "data": {
            "text/plain": [
              "OverallQual      int64\n",
              "GrLivArea        int64\n",
              "TotalBsmtSF      int64\n",
              "YearBuilt        int64\n",
              "Fireplaces       int64\n",
              "GarageArea     float64\n",
              "MasVnrArea     float64\n",
              "dtype: object"
            ]
          },
          "metadata": {
            "tags": []
          },
          "execution_count": 14
        }
      ]
    },
    {
      "cell_type": "code",
      "metadata": {
        "id": "7S8zu_l5eNoH",
        "colab_type": "code",
        "colab": {}
      },
      "source": [
        "test_y = RFC.predict(XX)"
      ],
      "execution_count": 15,
      "outputs": []
    },
    {
      "cell_type": "code",
      "metadata": {
        "id": "sAtLUH2veNoL",
        "colab_type": "code",
        "colab": {
          "base_uri": "https://localhost:8080/",
          "height": 51
        },
        "outputId": "2752c046-9485-45ef-944a-7bcd558c1250"
      },
      "source": [
        "test_y"
      ],
      "execution_count": 16,
      "outputs": [
        {
          "output_type": "execute_result",
          "data": {
            "text/plain": [
              "array([130620.        , 130170.9       , 173478.87      , ...,\n",
              "       152074.        , 107180.35714286, 234979.03      ])"
            ]
          },
          "metadata": {
            "tags": []
          },
          "execution_count": 16
        }
      ]
    },
    {
      "cell_type": "code",
      "metadata": {
        "id": "ZQre7utReNoP",
        "colab_type": "code",
        "colab": {}
      },
      "source": [
        "sub = pd.read_csv(\"sample_submission.csv\")"
      ],
      "execution_count": 17,
      "outputs": []
    },
    {
      "cell_type": "code",
      "metadata": {
        "id": "KCJkIa8CeNoU",
        "colab_type": "code",
        "colab": {}
      },
      "source": [
        "my_sub = pd.DataFrame({'Id': dff.index, 'SalePrice': test_y})"
      ],
      "execution_count": 18,
      "outputs": []
    },
    {
      "cell_type": "code",
      "metadata": {
        "id": "IPfdtha8eNoX",
        "colab_type": "code",
        "colab": {}
      },
      "source": [
        "my_sub.to_csv(r'my_sub.csv', index=False)"
      ],
      "execution_count": 19,
      "outputs": []
    },
    {
      "cell_type": "markdown",
      "metadata": {
        "id": "IHlq6b-feNoa",
        "colab_type": "text"
      },
      "source": [
        "## Public Score = 0.16504 <br />\n",
        "(sklearn RandomForestRegressor, with test_size =0.3, random_state = 17, and didn't delete  outliers)"
      ]
    },
    {
      "cell_type": "markdown",
      "metadata": {
        "id": "MDyrcAOoeNob",
        "colab_type": "text"
      },
      "source": [
        "# Delete outliers and train with all data"
      ]
    },
    {
      "cell_type": "markdown",
      "metadata": {
        "id": "QoZ2GK2meNob",
        "colab_type": "text"
      },
      "source": [
        "## delete outliers"
      ]
    },
    {
      "cell_type": "code",
      "metadata": {
        "id": "Cn6kpfkweNoc",
        "colab_type": "code",
        "colab": {}
      },
      "source": [
        "drop_pts_Id = [1299, 524, 1299]\n",
        "df = df.drop(drop_pts_Id)"
      ],
      "execution_count": 20,
      "outputs": []
    },
    {
      "cell_type": "code",
      "metadata": {
        "id": "BX_unyMueNof",
        "colab_type": "code",
        "colab": {
          "base_uri": "https://localhost:8080/",
          "height": 450
        },
        "outputId": "5dc47517-983d-42b6-dfdd-78b4fbfdabab"
      },
      "source": [
        "df"
      ],
      "execution_count": 21,
      "outputs": [
        {
          "output_type": "execute_result",
          "data": {
            "text/html": [
              "<div>\n",
              "<style scoped>\n",
              "    .dataframe tbody tr th:only-of-type {\n",
              "        vertical-align: middle;\n",
              "    }\n",
              "\n",
              "    .dataframe tbody tr th {\n",
              "        vertical-align: top;\n",
              "    }\n",
              "\n",
              "    .dataframe thead th {\n",
              "        text-align: right;\n",
              "    }\n",
              "</style>\n",
              "<table border=\"1\" class=\"dataframe\">\n",
              "  <thead>\n",
              "    <tr style=\"text-align: right;\">\n",
              "      <th></th>\n",
              "      <th>SalePrice</th>\n",
              "      <th>OverallQual</th>\n",
              "      <th>GrLivArea</th>\n",
              "      <th>TotalBsmtSF</th>\n",
              "      <th>YearBuilt</th>\n",
              "      <th>Fireplaces</th>\n",
              "      <th>GarageArea</th>\n",
              "      <th>MasVnrArea</th>\n",
              "    </tr>\n",
              "    <tr>\n",
              "      <th>Id</th>\n",
              "      <th></th>\n",
              "      <th></th>\n",
              "      <th></th>\n",
              "      <th></th>\n",
              "      <th></th>\n",
              "      <th></th>\n",
              "      <th></th>\n",
              "      <th></th>\n",
              "    </tr>\n",
              "  </thead>\n",
              "  <tbody>\n",
              "    <tr>\n",
              "      <th>1</th>\n",
              "      <td>208500</td>\n",
              "      <td>7</td>\n",
              "      <td>1710</td>\n",
              "      <td>856</td>\n",
              "      <td>2003</td>\n",
              "      <td>0</td>\n",
              "      <td>548</td>\n",
              "      <td>196.0</td>\n",
              "    </tr>\n",
              "    <tr>\n",
              "      <th>2</th>\n",
              "      <td>181500</td>\n",
              "      <td>6</td>\n",
              "      <td>1262</td>\n",
              "      <td>1262</td>\n",
              "      <td>1976</td>\n",
              "      <td>1</td>\n",
              "      <td>460</td>\n",
              "      <td>0.0</td>\n",
              "    </tr>\n",
              "    <tr>\n",
              "      <th>3</th>\n",
              "      <td>223500</td>\n",
              "      <td>7</td>\n",
              "      <td>1786</td>\n",
              "      <td>920</td>\n",
              "      <td>2001</td>\n",
              "      <td>1</td>\n",
              "      <td>608</td>\n",
              "      <td>162.0</td>\n",
              "    </tr>\n",
              "    <tr>\n",
              "      <th>4</th>\n",
              "      <td>140000</td>\n",
              "      <td>7</td>\n",
              "      <td>1717</td>\n",
              "      <td>756</td>\n",
              "      <td>1915</td>\n",
              "      <td>1</td>\n",
              "      <td>642</td>\n",
              "      <td>0.0</td>\n",
              "    </tr>\n",
              "    <tr>\n",
              "      <th>5</th>\n",
              "      <td>250000</td>\n",
              "      <td>8</td>\n",
              "      <td>2198</td>\n",
              "      <td>1145</td>\n",
              "      <td>2000</td>\n",
              "      <td>1</td>\n",
              "      <td>836</td>\n",
              "      <td>350.0</td>\n",
              "    </tr>\n",
              "    <tr>\n",
              "      <th>...</th>\n",
              "      <td>...</td>\n",
              "      <td>...</td>\n",
              "      <td>...</td>\n",
              "      <td>...</td>\n",
              "      <td>...</td>\n",
              "      <td>...</td>\n",
              "      <td>...</td>\n",
              "      <td>...</td>\n",
              "    </tr>\n",
              "    <tr>\n",
              "      <th>1456</th>\n",
              "      <td>175000</td>\n",
              "      <td>6</td>\n",
              "      <td>1647</td>\n",
              "      <td>953</td>\n",
              "      <td>1999</td>\n",
              "      <td>1</td>\n",
              "      <td>460</td>\n",
              "      <td>0.0</td>\n",
              "    </tr>\n",
              "    <tr>\n",
              "      <th>1457</th>\n",
              "      <td>210000</td>\n",
              "      <td>6</td>\n",
              "      <td>2073</td>\n",
              "      <td>1542</td>\n",
              "      <td>1978</td>\n",
              "      <td>2</td>\n",
              "      <td>500</td>\n",
              "      <td>119.0</td>\n",
              "    </tr>\n",
              "    <tr>\n",
              "      <th>1458</th>\n",
              "      <td>266500</td>\n",
              "      <td>7</td>\n",
              "      <td>2340</td>\n",
              "      <td>1152</td>\n",
              "      <td>1941</td>\n",
              "      <td>2</td>\n",
              "      <td>252</td>\n",
              "      <td>0.0</td>\n",
              "    </tr>\n",
              "    <tr>\n",
              "      <th>1459</th>\n",
              "      <td>142125</td>\n",
              "      <td>5</td>\n",
              "      <td>1078</td>\n",
              "      <td>1078</td>\n",
              "      <td>1950</td>\n",
              "      <td>0</td>\n",
              "      <td>240</td>\n",
              "      <td>0.0</td>\n",
              "    </tr>\n",
              "    <tr>\n",
              "      <th>1460</th>\n",
              "      <td>147500</td>\n",
              "      <td>5</td>\n",
              "      <td>1256</td>\n",
              "      <td>1256</td>\n",
              "      <td>1965</td>\n",
              "      <td>0</td>\n",
              "      <td>276</td>\n",
              "      <td>0.0</td>\n",
              "    </tr>\n",
              "  </tbody>\n",
              "</table>\n",
              "<p>1458 rows × 8 columns</p>\n",
              "</div>"
            ],
            "text/plain": [
              "      SalePrice  OverallQual  GrLivArea  ...  Fireplaces  GarageArea  MasVnrArea\n",
              "Id                                       ...                                    \n",
              "1        208500            7       1710  ...           0         548       196.0\n",
              "2        181500            6       1262  ...           1         460         0.0\n",
              "3        223500            7       1786  ...           1         608       162.0\n",
              "4        140000            7       1717  ...           1         642         0.0\n",
              "5        250000            8       2198  ...           1         836       350.0\n",
              "...         ...          ...        ...  ...         ...         ...         ...\n",
              "1456     175000            6       1647  ...           1         460         0.0\n",
              "1457     210000            6       2073  ...           2         500       119.0\n",
              "1458     266500            7       2340  ...           2         252         0.0\n",
              "1459     142125            5       1078  ...           0         240         0.0\n",
              "1460     147500            5       1256  ...           0         276         0.0\n",
              "\n",
              "[1458 rows x 8 columns]"
            ]
          },
          "metadata": {
            "tags": []
          },
          "execution_count": 21
        }
      ]
    },
    {
      "cell_type": "code",
      "metadata": {
        "id": "p7eOKC1AeNoj",
        "colab_type": "code",
        "colab": {}
      },
      "source": [
        "RFC2 = RandomForestRegressor()"
      ],
      "execution_count": 22,
      "outputs": []
    },
    {
      "cell_type": "code",
      "metadata": {
        "id": "EUCqi_TdeNom",
        "colab_type": "code",
        "colab": {
          "base_uri": "https://localhost:8080/",
          "height": 136
        },
        "outputId": "b54fe101-7312-41e5-b18e-273374483cf8"
      },
      "source": [
        "RFC2.fit(X, y)"
      ],
      "execution_count": 23,
      "outputs": [
        {
          "output_type": "execute_result",
          "data": {
            "text/plain": [
              "RandomForestRegressor(bootstrap=True, ccp_alpha=0.0, criterion='mse',\n",
              "                      max_depth=None, max_features='auto', max_leaf_nodes=None,\n",
              "                      max_samples=None, min_impurity_decrease=0.0,\n",
              "                      min_impurity_split=None, min_samples_leaf=1,\n",
              "                      min_samples_split=2, min_weight_fraction_leaf=0.0,\n",
              "                      n_estimators=100, n_jobs=None, oob_score=False,\n",
              "                      random_state=None, verbose=0, warm_start=False)"
            ]
          },
          "metadata": {
            "tags": []
          },
          "execution_count": 23
        }
      ]
    },
    {
      "cell_type": "code",
      "metadata": {
        "id": "BaeWjQ2weNop",
        "colab_type": "code",
        "colab": {
          "base_uri": "https://localhost:8080/",
          "height": 34
        },
        "outputId": "14bb5167-283f-433b-bc2e-2362f232894a"
      },
      "source": [
        "RFC2.score(X, y)"
      ],
      "execution_count": 24,
      "outputs": [
        {
          "output_type": "execute_result",
          "data": {
            "text/plain": [
              "0.9763707973662622"
            ]
          },
          "metadata": {
            "tags": []
          },
          "execution_count": 24
        }
      ]
    },
    {
      "cell_type": "code",
      "metadata": {
        "id": "jr6W3A60eNos",
        "colab_type": "code",
        "colab": {}
      },
      "source": [
        "test_y2 = RFC2.predict(XX)"
      ],
      "execution_count": 25,
      "outputs": []
    },
    {
      "cell_type": "code",
      "metadata": {
        "id": "Wz_T0tLseNov",
        "colab_type": "code",
        "colab": {
          "base_uri": "https://localhost:8080/",
          "height": 51
        },
        "outputId": "cdf196c7-fa83-4f67-8f2a-5b44a1ebe08f"
      },
      "source": [
        "test_y2"
      ],
      "execution_count": 26,
      "outputs": [
        {
          "output_type": "execute_result",
          "data": {
            "text/plain": [
              "array([131349.6 , 146799.5 , 170382.72, ..., 152233.  , 106583.5 ,\n",
              "       232097.1 ])"
            ]
          },
          "metadata": {
            "tags": []
          },
          "execution_count": 26
        }
      ]
    },
    {
      "cell_type": "code",
      "metadata": {
        "id": "LAMKRNJNeNo1",
        "colab_type": "code",
        "colab": {}
      },
      "source": [
        "my_sub2 = pd.DataFrame({'Id': dff.index, 'SalePrice': test_y2})\n",
        "my_sub2.to_csv(r'my_sub2.csv', index=False)"
      ],
      "execution_count": 27,
      "outputs": []
    },
    {
      "cell_type": "markdown",
      "metadata": {
        "id": "c1gJXJnJeNo4",
        "colab_type": "text"
      },
      "source": [
        "## Public Score = 0.16307 <br />\n",
        "(sklearn RandomForestRegressor, with test_size =0 (i.e. no test data), and deleted  outliers)"
      ]
    },
    {
      "cell_type": "code",
      "metadata": {
        "id": "yCR6ZB1weNo5",
        "colab_type": "code",
        "colab": {}
      },
      "source": [
        ""
      ],
      "execution_count": 27,
      "outputs": []
    }
  ]
}